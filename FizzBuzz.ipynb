{
 "cells": [
  {
   "cell_type": "code",
   "execution_count": 2,
   "metadata": {},
   "outputs": [
    {
     "output_type": "stream",
     "name": "stdout",
     "text": "1\n2\nFizz\n4\nBuz\nFizz\n7\n8\nFizz\nBuz\n11\nFizz\n13\n14\nFizzBuz\n16\n17\nFizz\n19\nBuz\nFizz\n22\n23\nFizz\nBuz\n26\nFizz\n28\n29\nFizzBuz\n31\n32\nFizz\n34\nBuz\nFizz\n37\n38\nFizz\nBuz\n41\nFizz\n43\n44\nFizzBuz\n46\n47\nFizz\n49\nBuz\nFizz\n52\n53\nFizz\nBuz\n56\nFizz\n58\n59\nFizzBuz\n61\n62\nFizz\n64\nBuz\nFizz\n67\n68\nFizz\nBuz\n71\nFizz\n73\n74\nFizzBuz\n76\n77\nFizz\n79\nBuz\nFizz\n82\n83\nFizz\nBuz\n86\nFizz\n88\n89\nFizzBuz\n91\n92\nFizz\n94\nBuz\nFizz\n97\n98\nFizz\nBuz\n"
    }
   ],
   "source": [
    "for i in range(1,101):\n",
    "    if i%3 != 0 and i%5 != 0: print(i)\n",
    "      \n",
    "    elif i%15 == 0 : print(\"FizzBuz\")\n",
    "    elif i%5 == 0 : print(\"Buz\")\n",
    "    else : print(\"Fizz\")"
   ]
  },
  {
   "cell_type": "code",
   "execution_count": null,
   "metadata": {},
   "outputs": [],
   "source": []
  }
 ],
 "metadata": {
  "language_info": {
   "codemirror_mode": {
    "name": "ipython",
    "version": 3
   },
   "file_extension": ".py",
   "mimetype": "text/x-python",
   "name": "python",
   "nbconvert_exporter": "python",
   "pygments_lexer": "ipython3",
   "version": "3.8.2-final"
  },
  "orig_nbformat": 2,
  "kernelspec": {
   "name": "python38232bitd08522931c0e40db98a6b981a4151f69",
   "display_name": "Python 3.8.2 32-bit"
  }
 },
 "nbformat": 4,
 "nbformat_minor": 2
}