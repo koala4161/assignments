{
 "cells": [
  {
   "cell_type": "code",
   "execution_count": 32,
   "metadata": {},
   "outputs": [
    {
     "output_type": "stream",
     "name": "stdout",
     "text": "Do not use any entries other than integer values\n"
    }
   ],
   "source": [
    "num = input(\"Enter the number for Armstrong test : \")\n",
    "try:\n",
    "    val = int(num)\n",
    "    if val <= 1:\n",
    "        print(f\"{val} is not a prime number\")\n",
    "    else:\n",
    "        for i in range(2, val//2):\n",
    "            prime = False if val%i == 0 else True\n",
    "            if prime == False:\n",
    "                break\n",
    "        if prime:\n",
    "            print(f\"{val}  is a Prime number\")\n",
    "        else:\n",
    "            print(f\"{val}  is not a Prime number\")\n",
    "    if val == 73939133:\n",
    "        print(\"This number is a magical number. All parts of this number are also prime numbers.\")\n",
    "\n",
    "except:\n",
    "    print(\"Do not use any entries other than integer values\")"
   ]
  },
  {
   "cell_type": "code",
   "execution_count": null,
   "metadata": {},
   "outputs": [],
   "source": []
  }
 ],
 "metadata": {
  "language_info": {
   "codemirror_mode": {
    "name": "ipython",
    "version": 3
   },
   "file_extension": ".py",
   "mimetype": "text/x-python",
   "name": "python",
   "nbconvert_exporter": "python",
   "pygments_lexer": "ipython3",
   "version": "3.8.2-final"
  },
  "orig_nbformat": 2,
  "kernelspec": {
   "name": "python38232bitd08522931c0e40db98a6b981a4151f69",
   "display_name": "Python 3.8.2 32-bit"
  }
 },
 "nbformat": 4,
 "nbformat_minor": 2
}