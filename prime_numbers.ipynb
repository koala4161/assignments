{
 "cells": [
  {
   "cell_type": "code",
   "execution_count": 11,
   "metadata": {},
   "outputs": [
    {
     "output_type": "stream",
     "name": "stdout",
     "text": "[2, 3, 5, 7, 11, 13, 17, 19]\n"
    }
   ],
   "source": [
    "num = int(input(\"Enter the limit number for prime numbers : \"))\n",
    "\n",
    "list = []\n",
    "\n",
    "for i in range(1, num + 1):\n",
    "    \n",
    "    count = 0\n",
    "    for j in range(1, i+1):\n",
    "        if i%j == 0:\n",
    "            count +=1\n",
    "            \n",
    "    if count == 2:\n",
    "        list.append(i)\n",
    "       \n",
    "print(list)"
   ]
  },
  {
   "cell_type": "code",
   "execution_count": null,
   "metadata": {},
   "outputs": [],
   "source": []
  }
 ],
 "metadata": {
  "language_info": {
   "codemirror_mode": {
    "name": "ipython",
    "version": 3
   },
   "file_extension": ".py",
   "mimetype": "text/x-python",
   "name": "python",
   "nbconvert_exporter": "python",
   "pygments_lexer": "ipython3",
   "version": "3.8.2-final"
  },
  "orig_nbformat": 2,
  "kernelspec": {
   "name": "python38232bitd08522931c0e40db98a6b981a4151f69",
   "display_name": "Python 3.8.2 32-bit"
  }
 },
 "nbformat": 4,
 "nbformat_minor": 2
}