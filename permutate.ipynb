{
 "cells": [
  {
   "cell_type": "code",
   "execution_count": 19,
   "metadata": {},
   "outputs": [
    {
     "output_type": "stream",
     "name": "stdout",
     "text": "[2, 3]\n[1, 3]\n[1, 2]\n[[1, 3, 2], [1, 3, 2], [2, 3, 1], [2, 3, 1], [3, 2, 1], [3, 2, 1]]\n"
    }
   ],
   "source": [
    "numbers = [1, 2, 3]\n",
    "\n",
    "permutate = []\n",
    "\n",
    "for i in numbers:\n",
    "    temp_numbers = list(numbers)\n",
    "    \n",
    "    innerlist = []\n",
    "    innerlist.append(i)\n",
    "    temp_numbers.remove(i)\n",
    "    print(temp_numbers)\n",
    "    \n",
    "    innerlist.append(temp_numbers[0])\n",
    "    innerlist.append(temp_numbers[1])\n",
    "    #print(innerlist)\n",
    "    permutate.append(innerlist)\n",
    "    #print(permutate)\n",
    "    innerlist.pop()\n",
    "    innerlist.pop()\n",
    "    innerlist.append(temp_numbers[1])\n",
    "    innerlist.append(temp_numbers[0])\n",
    "    \n",
    "    permutate.append(innerlist)\n",
    "    \n",
    "\n",
    "\n",
    "\n",
    "\n",
    "print(permutate)"
   ]
  },
  {
   "cell_type": "code",
   "execution_count": 28,
   "metadata": {},
   "outputs": [
    {
     "output_type": "stream",
     "name": "stdout",
     "text": "[[1, 2, 3], [1, 3, 2], [2, 1, 3], [2, 3, 1], [3, 1, 2], [3, 2, 1]]\n"
    }
   ],
   "source": [
    "numbers = [1, 2, 3]\n",
    "\n",
    "permutate = []\n",
    "\n",
    "for i in numbers:\n",
    "    list2 = list(numbers)\n",
    "    innerlist = []\n",
    "    innerlist.append(i)\n",
    "    list2.remove(i)\n",
    "    for j in list2:\n",
    "        list3 = list(list2)\n",
    "        innerlist.append(j)\n",
    "        list3.remove(j)\n",
    "        for k in list3:\n",
    "            innerlist.append(k)\n",
    "            permutate.append(innerlist)\n",
    "            innerlist = [i]\n",
    "\n",
    "print(permutate)"
   ]
  },
  {
   "cell_type": "code",
   "execution_count": 2,
   "metadata": {},
   "outputs": [
    {
     "output_type": "execute_result",
     "data": {
      "text/plain": "[1, 2, 3]"
     },
     "metadata": {},
     "execution_count": 2
    }
   ],
   "source": [
    "numbers = [1, 2, 3]\n",
    "deneme = numbers[:]\n",
    "deneme"
   ]
  },
  {
   "cell_type": "code",
   "execution_count": null,
   "metadata": {},
   "outputs": [],
   "source": []
  },
  {
   "cell_type": "code",
   "execution_count": 4,
   "metadata": {},
   "outputs": [
    {
     "output_type": "execute_result",
     "data": {
      "text/plain": "[[1, 2, 3], [1, 3, 2], [2, 1, 3], [2, 3, 1], [3, 1, 2], [3, 2, 1]]"
     },
     "metadata": {},
     "execution_count": 4
    }
   ],
   "source": [
    "def permutList(l):\n",
    "    if not l:\n",
    "            return [[]]\n",
    "    res = []\n",
    "    for e in l:\n",
    "            temp = l[:]\n",
    "            temp.remove(e)\n",
    "            res.extend([[e] + r for r in permutList(temp)])\n",
    "\n",
    "    return res\n",
    "\n",
    "permutList([1, 2, 3])"
   ]
  },
  {
   "cell_type": "code",
   "execution_count": null,
   "metadata": {},
   "outputs": [],
   "source": [
    "numbers = [1, 2, 3]\n",
    "result = []\n",
    "if len(numbers) <2: print(numbers)\n",
    "else:\n",
    "    for i in range(len(numbers)):\n",
    "        innerlist = []\n",
    "        for num in numbers:\n",
    "            temp = list(numbers)\n",
    "            temp.remove(num)\n",
    "            innerlist.extend([[num] + ])\n"
   ]
  }
 ],
 "metadata": {
  "language_info": {
   "codemirror_mode": {
    "name": "ipython",
    "version": 3
   },
   "file_extension": ".py",
   "mimetype": "text/x-python",
   "name": "python",
   "nbconvert_exporter": "python",
   "pygments_lexer": "ipython3",
   "version": "3.8.2-final"
  },
  "orig_nbformat": 2,
  "kernelspec": {
   "name": "python38232bitd08522931c0e40db98a6b981a4151f69",
   "display_name": "Python 3.8.2 32-bit"
  }
 },
 "nbformat": 4,
 "nbformat_minor": 2
}