{
 "cells": [
  {
   "cell_type": "code",
   "execution_count": 6,
   "metadata": {},
   "outputs": [
    {
     "output_type": "stream",
     "name": "stdout",
     "text": "{'d': 6, 's': 7, 'h': 6, 'f': 5, 'k': 6, 'j': 7, 'g': 5, '7': 2, 'o': 1, 'e': 1, 'r': 2, 'a': 4, 'l': 7, 't': 3, 'b': 2, 'ı': 1}\n"
    }
   ],
   "source": [
    "sample = input(\"Enter a sentence :\")\n",
    "\n",
    "chr_count = {i : 0 for i in sample}\n",
    "for i in sample:\n",
    "    chr_count[i] +=1\n",
    "print(chr_count)"
   ]
  }
 ],
 "metadata": {
  "language_info": {
   "codemirror_mode": {
    "name": "ipython",
    "version": 3
   },
   "file_extension": ".py",
   "mimetype": "text/x-python",
   "name": "python",
   "nbconvert_exporter": "python",
   "pygments_lexer": "ipython3",
   "version": "3.8.2-final"
  },
  "orig_nbformat": 2,
  "kernelspec": {
   "name": "python38232bitd08522931c0e40db98a6b981a4151f69",
   "display_name": "Python 3.8.2 32-bit"
  }
 },
 "nbformat": 4,
 "nbformat_minor": 2
}