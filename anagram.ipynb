{
 "cells": [
  {
   "cell_type": "code",
   "execution_count": 12,
   "metadata": {},
   "outputs": [
    {
     "output_type": "stream",
     "name": "stdout",
     "text": "[['kjl'], ['tan', 'nat'], ['kan'], ['can'], ['van'], ['eat', 'tea', 'ate', 'tae'], ['bat'], ['tlt']]\n"
    }
   ],
   "source": [
    "anagram = [\"eat\", \"tea\", \"tlt\", \"tan\", \"ate\", \"nat\", \"bat\", \"kan\", \"can\", \"van\", \"kjl\", \"tae\"]\n",
    "list1 = []\n",
    "for i in anagram:\n",
    "    res = ''.join(sorted(i))\n",
    "    list1.append(res)\n",
    "setlist = set(list1)\n",
    "endlist=[]\n",
    "for i in setlist:\n",
    "    innerlist =[]\n",
    "    k=0\n",
    "    for j in list1:\n",
    "        if i == j:\n",
    "            innerlist.append(anagram[k])\n",
    "        k+=1\n",
    "    endlist.append(innerlist) \n",
    "print(endlist)"
   ]
  }
 ],
 "metadata": {
  "language_info": {
   "codemirror_mode": {
    "name": "ipython",
    "version": 3
   },
   "file_extension": ".py",
   "mimetype": "text/x-python",
   "name": "python",
   "nbconvert_exporter": "python",
   "pygments_lexer": "ipython3",
   "version": "3.8.2-final"
  },
  "orig_nbformat": 2,
  "kernelspec": {
   "name": "python38232bitd08522931c0e40db98a6b981a4151f69",
   "display_name": "Python 3.8.2 32-bit"
  }
 },
 "nbformat": 4,
 "nbformat_minor": 2
}