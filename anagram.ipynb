{
 "cells": [
  {
   "cell_type": "code",
   "execution_count": 11,
   "metadata": {},
   "outputs": [
    {
     "output_type": "stream",
     "name": "stdout",
     "text": "{'aet', 'abt', 'ant'}\n['aet', 'aet', 'ant', 'aet', 'ant', 'abt']\neat\n['eat']\ntea\n['eat', 'tea']\nate\n['eat', 'tea', 'ate']\nbat\n['bat']\ntan\n['tan']\nnat\n['tan', 'nat']\n['eat', 'tea', 'tan', 'ate', 'nat', 'bat']\n[['eat', 'tea', 'ate'], ['bat'], ['tan', 'nat']]\n"
    }
   ],
   "source": [
    "anagram = [\"eat\", \"tea\", \"tan\", \"ate\", \"nat\", \"bat\"]\n",
    "\n",
    "list1 = []\n",
    "for i in anagram:\n",
    "    res = ''.join(sorted(i))\n",
    "    list1.append(res)\n",
    "setlist = set(list1)\n",
    "print(setlist)\n",
    "print(list1)\n",
    "endlist=[]\n",
    "for i in setlist:\n",
    "    innerlist =[]\n",
    "    k=0\n",
    "    for j in list1:\n",
    "        if i == j:\n",
    "            innerlist.append(anagram[k])\n",
    "#            print(anagram[k])\n",
    "            print(innerlist)\n",
    "        k+=1\n",
    "    endlist.append(innerlist) \n",
    "print(anagram)\n",
    "print(endlist)"
   ]
  },
  {
   "cell_type": "code",
   "execution_count": 30,
   "metadata": {},
   "outputs": [
    {
     "output_type": "error",
     "ename": "IndexError",
     "evalue": "list index out of range",
     "traceback": [
      "\u001b[1;31m---------------------------------------------------------------------------\u001b[0m",
      "\u001b[1;31mIndexError\u001b[0m                                Traceback (most recent call last)",
      "\u001b[1;32m<ipython-input-30-bfc2faffcc53>\u001b[0m in \u001b[0;36m<module>\u001b[1;34m\u001b[0m\n\u001b[0;32m      9\u001b[0m     \u001b[1;32mwhile\u001b[0m \u001b[0mcheck\u001b[0m\u001b[1;33m:\u001b[0m\u001b[1;33m\u001b[0m\u001b[1;33m\u001b[0m\u001b[0m\n\u001b[0;32m     10\u001b[0m         \u001b[1;32mif\u001b[0m \u001b[0mi\u001b[0m \u001b[1;33m==\u001b[0m \u001b[0mlen\u001b[0m\u001b[1;33m(\u001b[0m\u001b[0managram\u001b[0m\u001b[1;33m)\u001b[0m\u001b[1;33m-\u001b[0m\u001b[1;36m3\u001b[0m \u001b[1;33m:\u001b[0m \u001b[1;32mbreak\u001b[0m\u001b[1;33m\u001b[0m\u001b[1;33m\u001b[0m\u001b[0m\n\u001b[1;32m---> 11\u001b[1;33m         \u001b[1;32mif\u001b[0m \u001b[0msorted\u001b[0m\u001b[1;33m(\u001b[0m\u001b[0managram\u001b[0m\u001b[1;33m[\u001b[0m\u001b[0mi\u001b[0m\u001b[1;33m]\u001b[0m\u001b[1;33m)\u001b[0m \u001b[1;33m==\u001b[0m \u001b[0msorted\u001b[0m\u001b[1;33m(\u001b[0m\u001b[0managram\u001b[0m\u001b[1;33m[\u001b[0m\u001b[0mj\u001b[0m\u001b[1;33m+\u001b[0m\u001b[1;36m1\u001b[0m\u001b[1;33m]\u001b[0m\u001b[1;33m)\u001b[0m\u001b[1;33m:\u001b[0m\u001b[1;33m\u001b[0m\u001b[1;33m\u001b[0m\u001b[0m\n\u001b[0m\u001b[0;32m     12\u001b[0m             \u001b[0msmalllist\u001b[0m\u001b[1;33m.\u001b[0m\u001b[0mappend\u001b[0m\u001b[1;33m(\u001b[0m\u001b[0managram\u001b[0m\u001b[1;33m.\u001b[0m\u001b[0mpop\u001b[0m\u001b[1;33m(\u001b[0m\u001b[0mi\u001b[0m\u001b[1;33m+\u001b[0m\u001b[1;36m1\u001b[0m\u001b[1;33m)\u001b[0m\u001b[1;33m)\u001b[0m\u001b[1;33m\u001b[0m\u001b[1;33m\u001b[0m\u001b[0m\n\u001b[0;32m     13\u001b[0m             \u001b[0mj\u001b[0m\u001b[1;33m+=\u001b[0m\u001b[1;36m1\u001b[0m\u001b[1;33m\u001b[0m\u001b[1;33m\u001b[0m\u001b[0m\n",
      "\u001b[1;31mIndexError\u001b[0m: list index out of range"
     ]
    }
   ],
   "source": [
    "anagram = [\"eat\", \"tea\", \"tan\", \"ate\", \"nat\", \"bat\"]\n",
    "\n",
    "\n",
    "endlist = []  \n",
    "for i in range(len(anagram)-2):\n",
    "    smalllist = []\n",
    "    check = True\n",
    "    j = i\n",
    "    while check:\n",
    "        if i == len(anagram)-3 : break\n",
    "        if sorted(anagram[i]) == sorted(anagram[j+1]): \n",
    "            smalllist.append(anagram.pop(i+1))\n",
    "            j+=1\n",
    "        else:\n",
    "            smalllist.append(anagram.pop(i))\n",
    "            check = False\n",
    "    endlist.append(smalllist)            \n",
    "\n",
    "print(smalllist)\n",
    "print(anagram)\n",
    "print(endlist)"
   ]
  },
  {
   "cell_type": "code",
   "execution_count": 17,
   "metadata": {},
   "outputs": [
    {
     "output_type": "execute_result",
     "data": {
      "text/plain": "'nat'"
     },
     "metadata": {},
     "execution_count": 17
    }
   ],
   "source": [
    "anagram = [\"eat\", \"tea\", \"tan\", \"ate\", \"nat\", \"bat\"]\n",
    "\n",
    "anagram[i]"
   ]
  },
  {
   "cell_type": "code",
   "execution_count": 53,
   "metadata": {},
   "outputs": [
    {
     "output_type": "stream",
     "name": "stdout",
     "text": "[['tea', 'ate', 'eat']]\n[['tea', 'ate', 'eat'], ['nat', 'tan']]\n['nat', 'tan']\n['bat', 'kan']\n[['tea', 'ate', 'eat'], ['nat', 'tan']]\n"
    }
   ],
   "source": [
    "anagram = [\"eat\", \"tea\", \"tan\", \"ate\", \"nat\", \"bat\", \"kan\"]\n",
    "\n",
    "\n",
    "endlist = []  \n",
    "for i in anagram:\n",
    "    smalllist = []\n",
    "    j = 0\n",
    "    check = True\n",
    "    if len(anagram) == j+1 : smalllist = list(anagram)\n",
    "    else:\n",
    "        while check:\n",
    "            while j < len(anagram)-1:\n",
    "                if sorted(anagram[0]) == sorted(anagram[j+1]): \n",
    "                    smalllist.append(anagram.pop(j+1))\n",
    "                else:\n",
    "                    j+=1\n",
    "            smalllist.append(anagram.pop(0))\n",
    "            check = False\n",
    "    endlist.append(smalllist)            \n",
    "    print(endlist)\n",
    "print(smalllist)\n",
    "print(anagram)\n",
    "print(endlist)"
   ]
  },
  {
   "cell_type": "code",
   "execution_count": 72,
   "metadata": {},
   "outputs": [
    {
     "output_type": "execute_result",
     "data": {
      "text/plain": "[['tea', 'ate', 'tae', 'eat'], ['tlt'], ['nat', 'tan'], ['bat']]"
     },
     "metadata": {},
     "execution_count": 72
    }
   ],
   "source": [
    "anagram = [\"eat\", \"tea\", \"tlt\", \"tan\", \"ate\", \"nat\", \"bat\", \"kan\", \"can\", \"van\", \"kjl\", \"tae\"]\n",
    "endlist = []\n",
    "\n",
    "for i in anagram:\n",
    "    smalllist = []\n",
    "    if len(anagram) == 1:  smalllist = list(anagram)\n",
    "    else:\n",
    "        j = 1\n",
    "        while j < len(anagram):\n",
    "            if sorted(anagram[0]) == sorted(anagram[j]): \n",
    "                    smalllist.append(anagram.pop(j))\n",
    "            else: j+=1\n",
    "        smalllist.append(anagram.pop(0))\n",
    "    endlist.append(smalllist)  \n",
    "          \n",
    "endlist"
   ]
  },
  {
   "cell_type": "code",
   "execution_count": 12,
   "metadata": {},
   "outputs": [
    {
     "output_type": "stream",
     "name": "stdout",
     "text": "[['kjl'], ['tan', 'nat'], ['kan'], ['can'], ['van'], ['eat', 'tea', 'ate', 'tae'], ['bat'], ['tlt']]\n"
    }
   ],
   "source": [
    "anagram = [\"eat\", \"tea\", \"tlt\", \"tan\", \"ate\", \"nat\", \"bat\", \"kan\", \"can\", \"van\", \"kjl\", \"tae\"]\n",
    "list1 = []\n",
    "for i in anagram:\n",
    "    res = ''.join(sorted(i))\n",
    "    list1.append(res)\n",
    "setlist = set(list1)\n",
    "endlist=[]\n",
    "for i in setlist:\n",
    "    innerlist =[]\n",
    "    k=0\n",
    "    for j in list1:\n",
    "        if i == j:\n",
    "            innerlist.append(anagram[k])\n",
    "        k+=1\n",
    "    endlist.append(innerlist) \n",
    "print(endlist)"
   ]
  },
  {
   "cell_type": "code",
   "execution_count": null,
   "metadata": {},
   "outputs": [],
   "source": []
  }
 ],
 "metadata": {
  "language_info": {
   "codemirror_mode": {
    "name": "ipython",
    "version": 3
   },
   "file_extension": ".py",
   "mimetype": "text/x-python",
   "name": "python",
   "nbconvert_exporter": "python",
   "pygments_lexer": "ipython3",
   "version": "3.8.2-final"
  },
  "orig_nbformat": 2,
  "kernelspec": {
   "name": "python38232bitd08522931c0e40db98a6b981a4151f69",
   "display_name": "Python 3.8.2 32-bit"
  }
 },
 "nbformat": 4,
 "nbformat_minor": 2
}